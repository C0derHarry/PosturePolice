{
 "cells": [
  {
   "cell_type": "markdown",
   "id": "c9b0c358",
   "metadata": {},
   "source": [
    "# INSTALLING AND IMPORTING DEPENDENCIES"
   ]
  },
  {
   "cell_type": "code",
   "execution_count": 1,
   "id": "473849b5",
   "metadata": {},
   "outputs": [
    {
     "name": "stdout",
     "output_type": "stream",
     "text": [
      "Note: you may need to restart the kernel to use updated packages.\n"
     ]
    },
    {
     "name": "stderr",
     "output_type": "stream",
     "text": [
      "WARNING: Ignoring invalid distribution -rotobuf (c:\\users\\harsher gill\\appdata\\local\\programs\\python\\python310\\lib\\site-packages)\n",
      "WARNING: Ignoring invalid distribution -ip (c:\\users\\harsher gill\\appdata\\local\\programs\\python\\python310\\lib\\site-packages)\n",
      "WARNING: Ignoring invalid distribution -rotobuf (c:\\users\\harsher gill\\appdata\\local\\programs\\python\\python310\\lib\\site-packages)\n",
      "WARNING: Ignoring invalid distribution -ip (c:\\users\\harsher gill\\appdata\\local\\programs\\python\\python310\\lib\\site-packages)\n",
      "WARNING: Ignoring invalid distribution -rotobuf (c:\\users\\harsher gill\\appdata\\local\\programs\\python\\python310\\lib\\site-packages)\n",
      "WARNING: Ignoring invalid distribution -ip (c:\\users\\harsher gill\\appdata\\local\\programs\\python\\python310\\lib\\site-packages)\n",
      "    WARNING: Ignoring invalid distribution -rotobuf (c:\\users\\harsher gill\\appdata\\local\\programs\\python\\python310\\lib\\site-packages)\n",
      "    WARNING: Ignoring invalid distribution -ip (c:\\users\\harsher gill\\appdata\\local\\programs\\python\\python310\\lib\\site-packages)\n",
      "WARNING: Ignoring invalid distribution -rotobuf (c:\\users\\harsher gill\\appdata\\local\\programs\\python\\python310\\lib\\site-packages)\n",
      "WARNING: Ignoring invalid distribution -ip (c:\\users\\harsher gill\\appdata\\local\\programs\\python\\python310\\lib\\site-packages)\n",
      "WARNING: Ignoring invalid distribution -rotobuf (c:\\users\\harsher gill\\appdata\\local\\programs\\python\\python310\\lib\\site-packages)\n",
      "WARNING: Ignoring invalid distribution -ip (c:\\users\\harsher gill\\appdata\\local\\programs\\python\\python310\\lib\\site-packages)\n",
      "ERROR: pip's dependency resolver does not currently take into account all the packages that are installed. This behaviour is the source of the following dependency conflicts.\n",
      "tensorflow-intel 2.11.0 requires protobuf<3.20,>=3.9.2, but you have protobuf 3.20.3 which is incompatible.\n",
      "WARNING: Ignoring invalid distribution -rotobuf (c:\\users\\harsher gill\\appdata\\local\\programs\\python\\python310\\lib\\site-packages)\n",
      "WARNING: Ignoring invalid distribution -ip (c:\\users\\harsher gill\\appdata\\local\\programs\\python\\python310\\lib\\site-packages)\n",
      "WARNING: Ignoring invalid distribution -rotobuf (c:\\users\\harsher gill\\appdata\\local\\programs\\python\\python310\\lib\\site-packages)\n",
      "WARNING: Ignoring invalid distribution -ip (c:\\users\\harsher gill\\appdata\\local\\programs\\python\\python310\\lib\\site-packages)\n",
      "WARNING: Ignoring invalid distribution -rotobuf (c:\\users\\harsher gill\\appdata\\local\\programs\\python\\python310\\lib\\site-packages)\n",
      "WARNING: Ignoring invalid distribution -ip (c:\\users\\harsher gill\\appdata\\local\\programs\\python\\python310\\lib\\site-packages)\n"
     ]
    },
    {
     "name": "stdout",
     "output_type": "stream",
     "text": [
      "Collecting mediapipe\n",
      "  Using cached mediapipe-0.10.5-cp310-cp310-win_amd64.whl (50.3 MB)\n",
      "Requirement already satisfied: sounddevice>=0.4.4 in c:\\users\\harsher gill\\appdata\\local\\programs\\python\\python310\\lib\\site-packages (from mediapipe) (0.4.6)\n",
      "Requirement already satisfied: flatbuffers>=2.0 in c:\\users\\harsher gill\\appdata\\local\\programs\\python\\python310\\lib\\site-packages (from mediapipe) (23.3.3)\n",
      "Requirement already satisfied: matplotlib in c:\\users\\harsher gill\\appdata\\local\\programs\\python\\python310\\lib\\site-packages (from mediapipe) (3.5.2)\n",
      "Requirement already satisfied: opencv-contrib-python in c:\\users\\harsher gill\\appdata\\local\\programs\\python\\python310\\lib\\site-packages (from mediapipe) (4.6.0.66)\n",
      "Requirement already satisfied: absl-py in c:\\users\\harsher gill\\appdata\\local\\programs\\python\\python310\\lib\\site-packages (from mediapipe) (1.4.0)\n",
      "Collecting protobuf<4,>=3.11\n",
      "  Downloading protobuf-3.20.3-cp310-cp310-win_amd64.whl (904 kB)\n",
      "     ------------------------------------ 904.0/904.0 kB 346.7 kB/s eta 0:00:00\n",
      "Requirement already satisfied: attrs>=19.1.0 in c:\\users\\harsher gill\\appdata\\local\\programs\\python\\python310\\lib\\site-packages (from mediapipe) (21.4.0)\n",
      "Requirement already satisfied: numpy in c:\\users\\harsher gill\\appdata\\local\\programs\\python\\python310\\lib\\site-packages (from mediapipe) (1.22.4)\n",
      "Requirement already satisfied: CFFI>=1.0 in c:\\users\\harsher gill\\appdata\\local\\programs\\python\\python310\\lib\\site-packages (from sounddevice>=0.4.4->mediapipe) (1.15.0)\n",
      "Requirement already satisfied: cycler>=0.10 in c:\\users\\harsher gill\\appdata\\local\\programs\\python\\python310\\lib\\site-packages (from matplotlib->mediapipe) (0.11.0)\n",
      "Requirement already satisfied: pyparsing>=2.2.1 in c:\\users\\harsher gill\\appdata\\local\\programs\\python\\python310\\lib\\site-packages (from matplotlib->mediapipe) (3.0.9)\n",
      "Requirement already satisfied: packaging>=20.0 in c:\\users\\harsher gill\\appdata\\local\\programs\\python\\python310\\lib\\site-packages (from matplotlib->mediapipe) (21.3)\n",
      "Requirement already satisfied: fonttools>=4.22.0 in c:\\users\\harsher gill\\appdata\\local\\programs\\python\\python310\\lib\\site-packages (from matplotlib->mediapipe) (4.33.3)\n",
      "Requirement already satisfied: pillow>=6.2.0 in c:\\users\\harsher gill\\appdata\\local\\programs\\python\\python310\\lib\\site-packages (from matplotlib->mediapipe) (9.1.1)\n",
      "Requirement already satisfied: kiwisolver>=1.0.1 in c:\\users\\harsher gill\\appdata\\local\\programs\\python\\python310\\lib\\site-packages (from matplotlib->mediapipe) (1.4.3)\n",
      "Requirement already satisfied: python-dateutil>=2.7 in c:\\users\\harsher gill\\appdata\\local\\programs\\python\\python310\\lib\\site-packages (from matplotlib->mediapipe) (2.8.2)\n",
      "Requirement already satisfied: pycparser in c:\\users\\harsher gill\\appdata\\local\\programs\\python\\python310\\lib\\site-packages (from CFFI>=1.0->sounddevice>=0.4.4->mediapipe) (2.21)\n",
      "Requirement already satisfied: six>=1.5 in c:\\users\\harsher gill\\appdata\\local\\programs\\python\\python310\\lib\\site-packages (from python-dateutil>=2.7->matplotlib->mediapipe) (1.16.0)\n",
      "Installing collected packages: protobuf, mediapipe\n",
      "  Attempting uninstall: protobuf\n",
      "    Found existing installation: protobuf 4.21.0\n",
      "    Uninstalling protobuf-4.21.0:\n",
      "      Successfully uninstalled protobuf-4.21.0\n",
      "Successfully installed mediapipe-0.10.5 protobuf-3.20.3\n"
     ]
    }
   ],
   "source": [
    "pip install mediapipe"
   ]
  },
  {
   "cell_type": "code",
   "execution_count": 2,
   "id": "a6a8e3ff",
   "metadata": {},
   "outputs": [],
   "source": [
    "import cv2\n",
    "import mediapipe as mp\n",
    "import numpy as np\n",
    "mp_drawing = mp.solutions.drawing_utils\n",
    "mp_pose = mp.solutions.pose"
   ]
  },
  {
   "cell_type": "code",
   "execution_count": 4,
   "id": "383eb72d",
   "metadata": {},
   "outputs": [],
   "source": [
    "cap = cv2.VideoCapture(0)\n",
    "while cap.isOpened():\n",
    "    ret, frame = cap.read()\n",
    "    cv2.imshow('Mediapipe feed', frame)\n",
    "    \n",
    "    if cv2.waitKey(10) & 0xFF == ord('q'):\n",
    "        break\n",
    "        \n",
    "cap.release()\n",
    "cv2.destroyAllWindows()"
   ]
  },
  {
   "cell_type": "markdown",
   "id": "077d4ba8",
   "metadata": {},
   "source": [
    "# MAKING DETECTIONS"
   ]
  },
  {
   "cell_type": "code",
   "execution_count": null,
   "id": "a23cb525",
   "metadata": {},
   "outputs": [],
   "source": []
  }
 ],
 "metadata": {
  "kernelspec": {
   "display_name": "Python 3 (ipykernel)",
   "language": "python",
   "name": "python3"
  },
  "language_info": {
   "codemirror_mode": {
    "name": "ipython",
    "version": 3
   },
   "file_extension": ".py",
   "mimetype": "text/x-python",
   "name": "python",
   "nbconvert_exporter": "python",
   "pygments_lexer": "ipython3",
   "version": "3.10.4"
  }
 },
 "nbformat": 4,
 "nbformat_minor": 5
}
